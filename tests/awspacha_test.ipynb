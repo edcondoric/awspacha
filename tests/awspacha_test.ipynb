{
 "cells": [
  {
   "cell_type": "code",
   "execution_count": 6,
   "id": "30efad6a-d124-4011-a5ab-83801dcdaf0a",
   "metadata": {},
   "outputs": [
    {
     "name": "stdout",
     "output_type": "stream",
     "text": [
      "Collecting awspacha\n",
      "  Downloading awspacha-0.1.3-py3-none-any.whl.metadata (698 bytes)\n",
      "Requirement already satisfied: boto3 in c:\\users\\econdoricc\\appdata\\local\\programs\\python\\python311\\lib\\site-packages (from awspacha) (1.33.2)\n",
      "Requirement already satisfied: botocore<1.34.0,>=1.33.2 in c:\\users\\econdoricc\\appdata\\local\\programs\\python\\python311\\lib\\site-packages (from boto3->awspacha) (1.33.2)\n",
      "Requirement already satisfied: jmespath<2.0.0,>=0.7.1 in c:\\users\\econdoricc\\appdata\\local\\programs\\python\\python311\\lib\\site-packages (from boto3->awspacha) (1.0.1)\n",
      "Requirement already satisfied: s3transfer<0.9.0,>=0.8.0 in c:\\users\\econdoricc\\appdata\\local\\programs\\python\\python311\\lib\\site-packages (from boto3->awspacha) (0.8.1)\n",
      "Requirement already satisfied: python-dateutil<3.0.0,>=2.1 in c:\\users\\econdoricc\\appdata\\local\\programs\\python\\python311\\lib\\site-packages (from botocore<1.34.0,>=1.33.2->boto3->awspacha) (2.8.2)\n",
      "Requirement already satisfied: urllib3<2.1,>=1.25.4 in c:\\users\\econdoricc\\appdata\\local\\programs\\python\\python311\\lib\\site-packages (from botocore<1.34.0,>=1.33.2->boto3->awspacha) (2.0.5)\n",
      "Requirement already satisfied: six>=1.5 in c:\\users\\econdoricc\\appdata\\local\\programs\\python\\python311\\lib\\site-packages (from python-dateutil<3.0.0,>=2.1->botocore<1.34.0,>=1.33.2->boto3->awspacha) (1.16.0)\n",
      "Downloading awspacha-0.1.3-py3-none-any.whl (2.1 kB)\n",
      "Installing collected packages: awspacha\n",
      "Successfully installed awspacha-0.1.3\n",
      "Note: you may need to restart the kernel to use updated packages.\n"
     ]
    }
   ],
   "source": [
    "pip install awspacha"
   ]
  },
  {
   "cell_type": "code",
   "execution_count": 1,
   "id": "88485d9f-976a-4ff7-be19-c6d94376c60d",
   "metadata": {},
   "outputs": [
    {
     "ename": "ModuleNotFoundError",
     "evalue": "No module named 'awspacha'",
     "output_type": "error",
     "traceback": [
      "\u001b[1;31m---------------------------------------------------------------------------\u001b[0m",
      "\u001b[1;31mModuleNotFoundError\u001b[0m                       Traceback (most recent call last)",
      "Cell \u001b[1;32mIn[1], line 1\u001b[0m\n\u001b[1;32m----> 1\u001b[0m \u001b[38;5;28;01mfrom\u001b[39;00m \u001b[38;5;21;01mawspacha\u001b[39;00m\u001b[38;5;21;01m.\u001b[39;00m\u001b[38;5;21;01mmain\u001b[39;00m \u001b[38;5;28;01mimport\u001b[39;00m get_table_from_source, clean_folder, write_to_s3\n",
      "\u001b[1;31mModuleNotFoundError\u001b[0m: No module named 'awspacha'"
     ]
    }
   ],
   "source": [
    "from awspacha.main import get_table_from_source, clean_folder, write_to_s3"
   ]
  },
  {
   "cell_type": "code",
   "execution_count": 1,
   "id": "df262e53-841a-4cb4-95ca-c2fa6a3113b6",
   "metadata": {},
   "outputs": [
    {
     "name": "stdout",
     "output_type": "stream",
     "text": [
      "^C\n",
      "Note: you may need to restart the kernel to use updated packages.\n"
     ]
    }
   ],
   "source": [
    "pip uninstall awspacha"
   ]
  },
  {
   "cell_type": "code",
   "execution_count": 1,
   "id": "eaa54667-07a6-4eee-b725-d0ed655b0270",
   "metadata": {},
   "outputs": [
    {
     "name": "stdout",
     "output_type": "stream",
     "text": [
      "Collecting git+https://github.com/edcondoric/awspacha.git\n",
      "  Cloning https://github.com/edcondoric/awspacha.git to c:\\users\\econdoricc\\appdata\\local\\temp\\pip-req-build-eujyl71q\n",
      "  Resolved https://github.com/edcondoric/awspacha.git to commit 5c74ed19612e9e4913b3028be39574bd3ee07579\n",
      "  Preparing metadata (setup.py): started\n",
      "  Preparing metadata (setup.py): finished with status 'done'\n",
      "Requirement already satisfied: boto3 in c:\\users\\econdoricc\\appdata\\local\\programs\\python\\python311\\lib\\site-packages (from awspacha==0.1.3) (1.33.2)\n",
      "Requirement already satisfied: botocore<1.34.0,>=1.33.2 in c:\\users\\econdoricc\\appdata\\local\\programs\\python\\python311\\lib\\site-packages (from boto3->awspacha==0.1.3) (1.33.2)\n",
      "Requirement already satisfied: jmespath<2.0.0,>=0.7.1 in c:\\users\\econdoricc\\appdata\\local\\programs\\python\\python311\\lib\\site-packages (from boto3->awspacha==0.1.3) (1.0.1)\n",
      "Requirement already satisfied: s3transfer<0.9.0,>=0.8.0 in c:\\users\\econdoricc\\appdata\\local\\programs\\python\\python311\\lib\\site-packages (from boto3->awspacha==0.1.3) (0.8.1)\n",
      "Requirement already satisfied: python-dateutil<3.0.0,>=2.1 in c:\\users\\econdoricc\\appdata\\local\\programs\\python\\python311\\lib\\site-packages (from botocore<1.34.0,>=1.33.2->boto3->awspacha==0.1.3) (2.8.2)\n",
      "Requirement already satisfied: urllib3<2.1,>=1.25.4 in c:\\users\\econdoricc\\appdata\\local\\programs\\python\\python311\\lib\\site-packages (from botocore<1.34.0,>=1.33.2->boto3->awspacha==0.1.3) (2.0.5)\n",
      "Requirement already satisfied: six>=1.5 in c:\\users\\econdoricc\\appdata\\local\\programs\\python\\python311\\lib\\site-packages (from python-dateutil<3.0.0,>=2.1->botocore<1.34.0,>=1.33.2->boto3->awspacha==0.1.3) (1.16.0)\n",
      "Note: you may need to restart the kernel to use updated packages.\n"
     ]
    },
    {
     "name": "stderr",
     "output_type": "stream",
     "text": [
      "  Running command git clone --filter=blob:none --quiet https://github.com/edcondoric/awspacha.git 'C:\\Users\\econdoricc\\AppData\\Local\\Temp\\pip-req-build-eujyl71q'\n"
     ]
    }
   ],
   "source": [
    "pip install git+https://github.com/edcondoric/awspacha.git"
   ]
  },
  {
   "cell_type": "code",
   "execution_count": 9,
   "id": "2007e421-0f74-4444-a1fb-5476dbda7568",
   "metadata": {},
   "outputs": [
    {
     "name": "stdout",
     "output_type": "stream",
     "text": [
      "Requirement already satisfied: awspacha in c:\\users\\econdoricc\\appdata\\local\\programs\\python\\python311\\lib\\site-packages (0.1.3)\n",
      "Requirement already satisfied: boto3 in c:\\users\\econdoricc\\appdata\\local\\programs\\python\\python311\\lib\\site-packages (from awspacha) (1.33.2)\n",
      "Requirement already satisfied: botocore<1.34.0,>=1.33.2 in c:\\users\\econdoricc\\appdata\\local\\programs\\python\\python311\\lib\\site-packages (from boto3->awspacha) (1.33.2)\n",
      "Requirement already satisfied: jmespath<2.0.0,>=0.7.1 in c:\\users\\econdoricc\\appdata\\local\\programs\\python\\python311\\lib\\site-packages (from boto3->awspacha) (1.0.1)\n",
      "Requirement already satisfied: s3transfer<0.9.0,>=0.8.0 in c:\\users\\econdoricc\\appdata\\local\\programs\\python\\python311\\lib\\site-packages (from boto3->awspacha) (0.8.1)\n",
      "Requirement already satisfied: python-dateutil<3.0.0,>=2.1 in c:\\users\\econdoricc\\appdata\\local\\programs\\python\\python311\\lib\\site-packages (from botocore<1.34.0,>=1.33.2->boto3->awspacha) (2.8.2)\n",
      "Requirement already satisfied: urllib3<2.1,>=1.25.4 in c:\\users\\econdoricc\\appdata\\local\\programs\\python\\python311\\lib\\site-packages (from botocore<1.34.0,>=1.33.2->boto3->awspacha) (2.0.5)\n",
      "Requirement already satisfied: six>=1.5 in c:\\users\\econdoricc\\appdata\\local\\programs\\python\\python311\\lib\\site-packages (from python-dateutil<3.0.0,>=2.1->botocore<1.34.0,>=1.33.2->boto3->awspacha) (1.16.0)\n",
      "Note: you may need to restart the kernel to use updated packages.\n"
     ]
    }
   ],
   "source": [
    "pip install awspacha"
   ]
  },
  {
   "cell_type": "code",
   "execution_count": 1,
   "id": "2853038a-ac23-4bf4-80f5-e4ee0a3b8cd2",
   "metadata": {},
   "outputs": [
    {
     "ename": "ModuleNotFoundError",
     "evalue": "No module named 'awspacha'",
     "output_type": "error",
     "traceback": [
      "\u001b[1;31m---------------------------------------------------------------------------\u001b[0m",
      "\u001b[1;31mModuleNotFoundError\u001b[0m                       Traceback (most recent call last)",
      "Cell \u001b[1;32mIn[1], line 1\u001b[0m\n\u001b[1;32m----> 1\u001b[0m \u001b[38;5;28;01mimport\u001b[39;00m \u001b[38;5;21;01mawspacha\u001b[39;00m\n\u001b[0;32m      2\u001b[0m \u001b[38;5;28mprint\u001b[39m(awspacha\u001b[38;5;241m.\u001b[39m__version__)\n",
      "\u001b[1;31mModuleNotFoundError\u001b[0m: No module named 'awspacha'"
     ]
    }
   ],
   "source": [
    "import awspacha\n",
    "print(awspacha.__version__)\n"
   ]
  },
  {
   "cell_type": "code",
   "execution_count": 7,
   "id": "ebe4968b-676a-4e21-a505-0c46b107fc5f",
   "metadata": {},
   "outputs": [
    {
     "name": "stdout",
     "output_type": "stream",
     "text": [
      "Name: awspacha\n",
      "Version: 0.1.3\n",
      "Summary: Paquete para operaciones con Spark y S3\n",
      "Home-page: https://github.com/edcondoric/awspacha\n",
      "Author: Ed Condori\n",
      "Author-email: edcondoricc@gmail.com\n",
      "License: \n",
      "Location: C:\\Users\\econdoricc\\AppData\\Local\\Programs\\Python\\Python311\\Lib\\site-packages\n",
      "Requires: boto3\n",
      "Required-by: \n",
      "Note: you may need to restart the kernel to use updated packages.\n"
     ]
    }
   ],
   "source": [
    "pip show awspacha\n"
   ]
  },
  {
   "cell_type": "code",
   "execution_count": 6,
   "id": "f40f4bf3-a680-42a3-8da8-3ebddd0f25eb",
   "metadata": {},
   "outputs": [
    {
     "name": "stdout",
     "output_type": "stream",
     "text": [
      "^C\n",
      "Note: you may need to restart the kernel to use updated packages.\n"
     ]
    }
   ],
   "source": [
    "pip uninstall awspacha"
   ]
  },
  {
   "cell_type": "code",
   "execution_count": null,
   "id": "fe6e7f10-9e48-4279-a2d8-f798fcaa20d5",
   "metadata": {},
   "outputs": [],
   "source": [
    "pip install git+https://github.com/edcondoric/awspacha.git"
   ]
  }
 ],
 "metadata": {
  "kernelspec": {
   "display_name": "Python 3 (ipykernel)",
   "language": "python",
   "name": "python3"
  },
  "language_info": {
   "codemirror_mode": {
    "name": "ipython",
    "version": 3
   },
   "file_extension": ".py",
   "mimetype": "text/x-python",
   "name": "python",
   "nbconvert_exporter": "python",
   "pygments_lexer": "ipython3",
   "version": "3.11.5"
  },
  "widgets": {
   "application/vnd.jupyter.widget-state+json": {
    "state": {},
    "version_major": 2,
    "version_minor": 0
   }
  }
 },
 "nbformat": 4,
 "nbformat_minor": 5
}
