{
 "cells": [
  {
   "cell_type": "code",
   "execution_count": 2,
   "id": "8f54737a-c428-4ae5-8fc1-dcc689915a3d",
   "metadata": {},
   "outputs": [
    {
     "name": "stdout",
     "output_type": "stream",
     "text": [
      "Collecting pixegami-hello\n",
      "  Downloading pixegami_hello-0.3.0-py3-none-any.whl.metadata (5.4 kB)\n",
      "Downloading pixegami_hello-0.3.0-py3-none-any.whl (3.8 kB)\n",
      "Installing collected packages: pixegami-hello\n",
      "Successfully installed pixegami-hello-0.3.0\n",
      "Note: you may need to restart the kernel to use updated packages.\n"
     ]
    }
   ],
   "source": [
    "pip install pixegami-hello"
   ]
  },
  {
   "cell_type": "code",
   "execution_count": 3,
   "id": "3f2ccf8a-be33-44d0-8e19-f7c67fdcd5e3",
   "metadata": {},
   "outputs": [],
   "source": [
    "from pixegami_hello import hello"
   ]
  },
  {
   "cell_type": "code",
   "execution_count": 5,
   "id": "96af347c-edda-48b7-9961-0782617de062",
   "metadata": {},
   "outputs": [
    {
     "name": "stdout",
     "output_type": "stream",
     "text": [
      "Hello from Pixegami!\n"
     ]
    }
   ],
   "source": [
    "hello()"
   ]
  },
  {
   "cell_type": "code",
   "execution_count": null,
   "id": "cf0c5e91-132a-4915-b06c-a839ab0ba278",
   "metadata": {},
   "outputs": [],
   "source": []
  },
  {
   "cell_type": "code",
   "execution_count": null,
   "id": "d9c91196-eb0b-4722-a722-ea262faab8fd",
   "metadata": {},
   "outputs": [],
   "source": [
    "pip uninstall awspacha"
   ]
  },
  {
   "cell_type": "code",
   "execution_count": 1,
   "id": "29e481ef-3710-4b19-93c8-bb00619aa536",
   "metadata": {},
   "outputs": [
    {
     "name": "stdout",
     "output_type": "stream",
     "text": [
      "Processing d:\\pipy\\awspacha\\dist\\awspacha-0.1.4-py3-none-any.whl\n",
      "Requirement already satisfied: boto3 in c:\\users\\econdoricc\\appdata\\local\\programs\\python\\python311\\lib\\site-packages (from awspacha==0.1.4) (1.33.2)\n",
      "Requirement already satisfied: botocore<1.34.0,>=1.33.2 in c:\\users\\econdoricc\\appdata\\local\\programs\\python\\python311\\lib\\site-packages (from boto3->awspacha==0.1.4) (1.33.2)\n",
      "Requirement already satisfied: jmespath<2.0.0,>=0.7.1 in c:\\users\\econdoricc\\appdata\\local\\programs\\python\\python311\\lib\\site-packages (from boto3->awspacha==0.1.4) (1.0.1)\n",
      "Requirement already satisfied: s3transfer<0.9.0,>=0.8.0 in c:\\users\\econdoricc\\appdata\\local\\programs\\python\\python311\\lib\\site-packages (from boto3->awspacha==0.1.4) (0.8.1)\n",
      "Requirement already satisfied: python-dateutil<3.0.0,>=2.1 in c:\\users\\econdoricc\\appdata\\local\\programs\\python\\python311\\lib\\site-packages (from botocore<1.34.0,>=1.33.2->boto3->awspacha==0.1.4) (2.8.2)\n",
      "Requirement already satisfied: urllib3<2.1,>=1.25.4 in c:\\users\\econdoricc\\appdata\\local\\programs\\python\\python311\\lib\\site-packages (from botocore<1.34.0,>=1.33.2->boto3->awspacha==0.1.4) (2.0.5)\n",
      "Requirement already satisfied: six>=1.5 in c:\\users\\econdoricc\\appdata\\local\\programs\\python\\python311\\lib\\site-packages (from python-dateutil<3.0.0,>=2.1->botocore<1.34.0,>=1.33.2->boto3->awspacha==0.1.4) (1.16.0)\n",
      "Installing collected packages: awspacha\n",
      "Successfully installed awspacha-0.1.4\n",
      "Note: you may need to restart the kernel to use updated packages.\n"
     ]
    }
   ],
   "source": [
    "pip install ../dist/awspacha-0.1.4-py3-none-any.whl"
   ]
  },
  {
   "cell_type": "code",
   "execution_count": 2,
   "id": "041f6fe8-ce43-4cc0-9b3b-d0f719d540c7",
   "metadata": {},
   "outputs": [],
   "source": [
    "import awspacha"
   ]
  },
  {
   "cell_type": "code",
   "execution_count": 3,
   "id": "e451e1c1-4b39-4d8e-9d00-044d79943db8",
   "metadata": {},
   "outputs": [
    {
     "name": "stdout",
     "output_type": "stream",
     "text": [
      "Hello World\n"
     ]
    }
   ],
   "source": [
    "awspacha.main.hello()"
   ]
  },
  {
   "cell_type": "code",
   "execution_count": null,
   "id": "046d94c9-4f9e-4bd1-9947-3a850060b3b4",
   "metadata": {},
   "outputs": [],
   "source": [
    "write_to_s3()"
   ]
  },
  {
   "cell_type": "code",
   "execution_count": 1,
   "id": "b7c30638-e171-4af8-9a17-a808ba666d14",
   "metadata": {},
   "outputs": [
    {
     "ename": "SyntaxError",
     "evalue": "invalid syntax (2320984178.py, line 1)",
     "output_type": "error",
     "traceback": [
      "\u001b[1;36m  Cell \u001b[1;32mIn[1], line 1\u001b[1;36m\u001b[0m\n\u001b[1;33m    python -m pip install --upgrade awspacha\u001b[0m\n\u001b[1;37m              ^\u001b[0m\n\u001b[1;31mSyntaxError\u001b[0m\u001b[1;31m:\u001b[0m invalid syntax\n"
     ]
    }
   ],
   "source": [
    "python -m pip install --upgrade awspacha"
   ]
  },
  {
   "cell_type": "code",
   "execution_count": 1,
   "id": "3e47bce1-cbeb-4e62-ad53-8e5e0429ffcc",
   "metadata": {},
   "outputs": [],
   "source": [
    "import awspacha as ec"
   ]
  },
  {
   "cell_type": "code",
   "execution_count": 9,
   "id": "d11a2ca6-48c3-4e8b-a719-a5b7953167fe",
   "metadata": {},
   "outputs": [],
   "source": [
    "manager = ed.GlueCrawlerManager()"
   ]
  },
  {
   "cell_type": "code",
   "execution_count": 11,
   "id": "e241520d-6391-4356-873b-5e2f6ed65a3a",
   "metadata": {},
   "outputs": [
    {
     "name": "stdout",
     "output_type": "stream",
     "text": [
      "Error al iniciar el crawler temp_bd_externa_20241612: An error occurred (CrawlerRunningException) when calling the StartCrawler operation: Crawler with name temp_bd_externa_20241612 has already started\n"
     ]
    }
   ],
   "source": [
    "manager.start_crawler('temp_bd_externa_20241612')"
   ]
  },
  {
   "cell_type": "code",
   "execution_count": 12,
   "id": "55599aac-391c-46eb-a909-06e07a6b7519",
   "metadata": {},
   "outputs": [
    {
     "name": "stdout",
     "output_type": "stream",
     "text": [
      "El estado del crawler temp_bd_externa_20241612 es: RUNNING\n"
     ]
    }
   ],
   "source": [
    "manager.get_crawler_status('temp_bd_externa_20241612')"
   ]
  },
  {
   "cell_type": "code",
   "execution_count": 4,
   "id": "0993e215-96bb-4e10-a315-e2944eb84f36",
   "metadata": {},
   "outputs": [],
   "source": [
    "athena = ec.AthenaManager()\n",
    "sqlquery = \"\"\"\n",
    "SELECT *\n",
    "FROM \"AwsDataCatalog\".\"auna_dl_prd_inteligencia_cobranza\".\"telefonos_cobranza\" limit 100;\n",
    "\"\"\"\n",
    "db = 'auna_dl_prd_inteligencia_cobranza'\n",
    "\n",
    "output_location = 's3://us-east-1-athena-results-120336759'"
   ]
  },
  {
   "cell_type": "code",
   "execution_count": 7,
   "id": "72bb7a3c-0fff-4a8a-ae1f-dde54a86c85d",
   "metadata": {},
   "outputs": [
    {
     "name": "stdout",
     "output_type": "stream",
     "text": [
      "Consulta iniciada exitosamente con ID de ejecución: d6d7803b-bab0-46fe-bf7b-ac27aa64375c\n"
     ]
    },
    {
     "data": {
      "text/plain": [
       "'d6d7803b-bab0-46fe-bf7b-ac27aa64375c'"
      ]
     },
     "execution_count": 7,
     "metadata": {},
     "output_type": "execute_result"
    }
   ],
   "source": [
    "sqlquery = \"\"\"\n",
    "SELECT *\n",
    "FROM \"AwsDataCatalog\".\"auna_dl_prd_inteligencia_cobranza\".\"telefonos_cobranza\" limit 100;\n",
    "\"\"\"\n",
    "db = 'auna_dl_prd_inteligencia_cobranza'\n",
    "\n",
    "output_location = 's3://us-east-1-athena-results-120336759/'\n",
    "\n",
    "athena.execute_query(sqlquery, db,output_location)"
   ]
  },
  {
   "cell_type": "code",
   "execution_count": 13,
   "id": "96ead01a-ab4e-4d39-a0e7-c7f5b024861b",
   "metadata": {
    "scrolled": true
   },
   "outputs": [
    {
     "data": {
      "text/plain": [
       "[{'VarCharValue': '25664105'},\n",
       " {'VarCharValue': '977162440'},\n",
       " {'VarCharValue': '951427411'},\n",
       " {'VarCharValue': '989270269'},\n",
       " {'VarCharValue': '991778971'},\n",
       " {'VarCharValue': '959393753'},\n",
       " {'VarCharValue': '989050235'},\n",
       " {},\n",
       " {},\n",
       " {}]"
      ]
     },
     "execution_count": 13,
     "metadata": {},
     "output_type": "execute_result"
    }
   ],
   "source": [
    "athena.get_query_results('d6d7803b-bab0-46fe-bf7b-ac27aa64375c')['ResultSet']['Rows'][1]['Data']"
   ]
  },
  {
   "cell_type": "code",
   "execution_count": 5,
   "id": "374079bf-7a98-4014-87d1-c1b0b70e4faa",
   "metadata": {},
   "outputs": [
    {
     "name": "stdout",
     "output_type": "stream",
     "text": [
      "Resultados de la consulta cargados exitosamente en un DataFrame.\n"
     ]
    },
    {
     "data": {
      "text/html": [
       "<div>\n",
       "<style scoped>\n",
       "    .dataframe tbody tr th:only-of-type {\n",
       "        vertical-align: middle;\n",
       "    }\n",
       "\n",
       "    .dataframe tbody tr th {\n",
       "        vertical-align: top;\n",
       "    }\n",
       "\n",
       "    .dataframe thead th {\n",
       "        text-align: right;\n",
       "    }\n",
       "</style>\n",
       "<table border=\"1\" class=\"dataframe\">\n",
       "  <thead>\n",
       "    <tr style=\"text-align: right;\">\n",
       "      <th></th>\n",
       "      <th>nro_documento</th>\n",
       "      <th>telefono_1</th>\n",
       "      <th>telefono_2</th>\n",
       "      <th>telefono_3</th>\n",
       "      <th>telefono_4</th>\n",
       "      <th>telefono_5</th>\n",
       "      <th>telefono_6</th>\n",
       "      <th>telefono_7</th>\n",
       "      <th>telefono_8</th>\n",
       "      <th>telefono_9</th>\n",
       "    </tr>\n",
       "  </thead>\n",
       "  <tbody>\n",
       "    <tr>\n",
       "      <th>0</th>\n",
       "      <td>25664105</td>\n",
       "      <td>977162440</td>\n",
       "      <td>951427411.0</td>\n",
       "      <td>989270269.0</td>\n",
       "      <td>991778971.0</td>\n",
       "      <td>959393753.0</td>\n",
       "      <td>989050235.0</td>\n",
       "      <td>NaN</td>\n",
       "      <td>NaN</td>\n",
       "      <td>NaN</td>\n",
       "    </tr>\n",
       "    <tr>\n",
       "      <th>1</th>\n",
       "      <td>42012394</td>\n",
       "      <td>991264961</td>\n",
       "      <td>923850877.0</td>\n",
       "      <td>992741858.0</td>\n",
       "      <td>992074210.0</td>\n",
       "      <td>999928081.0</td>\n",
       "      <td>991264962.0</td>\n",
       "      <td>NaN</td>\n",
       "      <td>NaN</td>\n",
       "      <td>NaN</td>\n",
       "    </tr>\n",
       "    <tr>\n",
       "      <th>2</th>\n",
       "      <td>8817178</td>\n",
       "      <td>998230610</td>\n",
       "      <td>995034936.0</td>\n",
       "      <td>936034985.0</td>\n",
       "      <td>960853829.0</td>\n",
       "      <td>998231008.0</td>\n",
       "      <td>953184808.0</td>\n",
       "      <td>NaN</td>\n",
       "      <td>NaN</td>\n",
       "      <td>NaN</td>\n",
       "    </tr>\n",
       "    <tr>\n",
       "      <th>3</th>\n",
       "      <td>9672189</td>\n",
       "      <td>999458905</td>\n",
       "      <td>998345339.0</td>\n",
       "      <td>992645614.0</td>\n",
       "      <td>NaN</td>\n",
       "      <td>NaN</td>\n",
       "      <td>NaN</td>\n",
       "      <td>NaN</td>\n",
       "      <td>NaN</td>\n",
       "      <td>NaN</td>\n",
       "    </tr>\n",
       "    <tr>\n",
       "      <th>4</th>\n",
       "      <td>8688867</td>\n",
       "      <td>966110254</td>\n",
       "      <td>994024480.0</td>\n",
       "      <td>955029448.0</td>\n",
       "      <td>955029415.0</td>\n",
       "      <td>994024487.0</td>\n",
       "      <td>998604586.0</td>\n",
       "      <td>991447111.0</td>\n",
       "      <td>NaN</td>\n",
       "      <td>NaN</td>\n",
       "    </tr>\n",
       "    <tr>\n",
       "      <th>...</th>\n",
       "      <td>...</td>\n",
       "      <td>...</td>\n",
       "      <td>...</td>\n",
       "      <td>...</td>\n",
       "      <td>...</td>\n",
       "      <td>...</td>\n",
       "      <td>...</td>\n",
       "      <td>...</td>\n",
       "      <td>...</td>\n",
       "      <td>...</td>\n",
       "    </tr>\n",
       "    <tr>\n",
       "      <th>95</th>\n",
       "      <td>77534662</td>\n",
       "      <td>954777960</td>\n",
       "      <td>954778008.0</td>\n",
       "      <td>NaN</td>\n",
       "      <td>NaN</td>\n",
       "      <td>NaN</td>\n",
       "      <td>NaN</td>\n",
       "      <td>NaN</td>\n",
       "      <td>NaN</td>\n",
       "      <td>NaN</td>\n",
       "    </tr>\n",
       "    <tr>\n",
       "      <th>96</th>\n",
       "      <td>7969345</td>\n",
       "      <td>999678442</td>\n",
       "      <td>984889528.0</td>\n",
       "      <td>960376710.0</td>\n",
       "      <td>994202117.0</td>\n",
       "      <td>995523383.0</td>\n",
       "      <td>904439292.0</td>\n",
       "      <td>NaN</td>\n",
       "      <td>NaN</td>\n",
       "      <td>NaN</td>\n",
       "    </tr>\n",
       "    <tr>\n",
       "      <th>97</th>\n",
       "      <td>7933713</td>\n",
       "      <td>996488843</td>\n",
       "      <td>944478176.0</td>\n",
       "      <td>943848692.0</td>\n",
       "      <td>971110525.0</td>\n",
       "      <td>996873008.0</td>\n",
       "      <td>943849008.0</td>\n",
       "      <td>996489008.0</td>\n",
       "      <td>989955309.0</td>\n",
       "      <td>986134524.0</td>\n",
       "    </tr>\n",
       "    <tr>\n",
       "      <th>98</th>\n",
       "      <td>41005413</td>\n",
       "      <td>987135073</td>\n",
       "      <td>991301555.0</td>\n",
       "      <td>946583025.0</td>\n",
       "      <td>NaN</td>\n",
       "      <td>NaN</td>\n",
       "      <td>NaN</td>\n",
       "      <td>NaN</td>\n",
       "      <td>NaN</td>\n",
       "      <td>NaN</td>\n",
       "    </tr>\n",
       "    <tr>\n",
       "      <th>99</th>\n",
       "      <td>8105983</td>\n",
       "      <td>942728682</td>\n",
       "      <td>949431728.0</td>\n",
       "      <td>942778682.0</td>\n",
       "      <td>947173160.0</td>\n",
       "      <td>995159186.0</td>\n",
       "      <td>NaN</td>\n",
       "      <td>NaN</td>\n",
       "      <td>NaN</td>\n",
       "      <td>NaN</td>\n",
       "    </tr>\n",
       "  </tbody>\n",
       "</table>\n",
       "<p>100 rows × 10 columns</p>\n",
       "</div>"
      ],
      "text/plain": [
       "    nro_documento  telefono_1   telefono_2   telefono_3   telefono_4  \\\n",
       "0        25664105   977162440  951427411.0  989270269.0  991778971.0   \n",
       "1        42012394   991264961  923850877.0  992741858.0  992074210.0   \n",
       "2         8817178   998230610  995034936.0  936034985.0  960853829.0   \n",
       "3         9672189   999458905  998345339.0  992645614.0          NaN   \n",
       "4         8688867   966110254  994024480.0  955029448.0  955029415.0   \n",
       "..            ...         ...          ...          ...          ...   \n",
       "95       77534662   954777960  954778008.0          NaN          NaN   \n",
       "96        7969345   999678442  984889528.0  960376710.0  994202117.0   \n",
       "97        7933713   996488843  944478176.0  943848692.0  971110525.0   \n",
       "98       41005413   987135073  991301555.0  946583025.0          NaN   \n",
       "99        8105983   942728682  949431728.0  942778682.0  947173160.0   \n",
       "\n",
       "     telefono_5   telefono_6   telefono_7   telefono_8   telefono_9  \n",
       "0   959393753.0  989050235.0          NaN          NaN          NaN  \n",
       "1   999928081.0  991264962.0          NaN          NaN          NaN  \n",
       "2   998231008.0  953184808.0          NaN          NaN          NaN  \n",
       "3           NaN          NaN          NaN          NaN          NaN  \n",
       "4   994024487.0  998604586.0  991447111.0          NaN          NaN  \n",
       "..          ...          ...          ...          ...          ...  \n",
       "95          NaN          NaN          NaN          NaN          NaN  \n",
       "96  995523383.0  904439292.0          NaN          NaN          NaN  \n",
       "97  996873008.0  943849008.0  996489008.0  989955309.0  986134524.0  \n",
       "98          NaN          NaN          NaN          NaN          NaN  \n",
       "99  995159186.0          NaN          NaN          NaN          NaN  \n",
       "\n",
       "[100 rows x 10 columns]"
      ]
     },
     "execution_count": 5,
     "metadata": {},
     "output_type": "execute_result"
    }
   ],
   "source": [
    "athena.get_query_results_as_dataframe('d6d7803b-bab0-46fe-bf7b-ac27aa64375c',output_location)"
   ]
  },
  {
   "cell_type": "code",
   "execution_count": 6,
   "id": "9e168ef6-dee7-489f-848a-e68aa3d34ac1",
   "metadata": {},
   "outputs": [],
   "source": [
    "import pandas as pd"
   ]
  },
  {
   "cell_type": "code",
   "execution_count": null,
   "id": "c91d8679-4381-4571-9fcc-25affa36fe6f",
   "metadata": {},
   "outputs": [],
   "source": []
  }
 ],
 "metadata": {
  "kernelspec": {
   "display_name": "Python 3 (ipykernel)",
   "language": "python",
   "name": "python3"
  },
  "language_info": {
   "codemirror_mode": {
    "name": "ipython",
    "version": 3
   },
   "file_extension": ".py",
   "mimetype": "text/x-python",
   "name": "python",
   "nbconvert_exporter": "python",
   "pygments_lexer": "ipython3",
   "version": "3.11.5"
  },
  "widgets": {
   "application/vnd.jupyter.widget-state+json": {
    "state": {},
    "version_major": 2,
    "version_minor": 0
   }
  }
 },
 "nbformat": 4,
 "nbformat_minor": 5
}
