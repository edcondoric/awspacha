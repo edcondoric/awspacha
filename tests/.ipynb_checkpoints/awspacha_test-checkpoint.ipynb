{
 "cells": [
  {
   "cell_type": "code",
   "execution_count": 2,
   "id": "8f54737a-c428-4ae5-8fc1-dcc689915a3d",
   "metadata": {},
   "outputs": [
    {
     "name": "stdout",
     "output_type": "stream",
     "text": [
      "Collecting pixegami-hello\n",
      "  Downloading pixegami_hello-0.3.0-py3-none-any.whl.metadata (5.4 kB)\n",
      "Downloading pixegami_hello-0.3.0-py3-none-any.whl (3.8 kB)\n",
      "Installing collected packages: pixegami-hello\n",
      "Successfully installed pixegami-hello-0.3.0\n",
      "Note: you may need to restart the kernel to use updated packages.\n"
     ]
    }
   ],
   "source": [
    "pip install pixegami-hello"
   ]
  },
  {
   "cell_type": "code",
   "execution_count": 3,
   "id": "3f2ccf8a-be33-44d0-8e19-f7c67fdcd5e3",
   "metadata": {},
   "outputs": [],
   "source": [
    "from pixegami_hello import hello"
   ]
  },
  {
   "cell_type": "code",
   "execution_count": 5,
   "id": "96af347c-edda-48b7-9961-0782617de062",
   "metadata": {},
   "outputs": [
    {
     "name": "stdout",
     "output_type": "stream",
     "text": [
      "Hello from Pixegami!\n"
     ]
    }
   ],
   "source": [
    "hello()"
   ]
  },
  {
   "cell_type": "code",
   "execution_count": null,
   "id": "cf0c5e91-132a-4915-b06c-a839ab0ba278",
   "metadata": {},
   "outputs": [],
   "source": []
  },
  {
   "cell_type": "code",
   "execution_count": null,
   "id": "d9c91196-eb0b-4722-a722-ea262faab8fd",
   "metadata": {},
   "outputs": [],
   "source": [
    "pip uninstall awspacha"
   ]
  },
  {
   "cell_type": "code",
   "execution_count": null,
   "id": "bc79578a-8c26-40c1-b95b-d2b95658cc78",
   "metadata": {},
   "outputs": [],
   "source": [
    "awspacha-0.1.4-py3-none-any.whl"
   ]
  },
  {
   "cell_type": "code",
   "execution_count": 8,
   "id": "29e481ef-3710-4b19-93c8-bb00619aa536",
   "metadata": {},
   "outputs": [
    {
     "name": "stdout",
     "output_type": "stream",
     "text": [
      "Processing d:\\pipy\\awspacha\\dist\\awspacha-0.1.4-py3-none-any.whl\n",
      "Requirement already satisfied: boto3 in c:\\users\\econdoricc\\appdata\\local\\programs\\python\\python311\\lib\\site-packages (from awspacha==0.1.4) (1.33.2)\n",
      "Requirement already satisfied: botocore<1.34.0,>=1.33.2 in c:\\users\\econdoricc\\appdata\\local\\programs\\python\\python311\\lib\\site-packages (from boto3->awspacha==0.1.4) (1.33.2)\n",
      "Requirement already satisfied: jmespath<2.0.0,>=0.7.1 in c:\\users\\econdoricc\\appdata\\local\\programs\\python\\python311\\lib\\site-packages (from boto3->awspacha==0.1.4) (1.0.1)\n",
      "Requirement already satisfied: s3transfer<0.9.0,>=0.8.0 in c:\\users\\econdoricc\\appdata\\local\\programs\\python\\python311\\lib\\site-packages (from boto3->awspacha==0.1.4) (0.8.1)\n",
      "Requirement already satisfied: python-dateutil<3.0.0,>=2.1 in c:\\users\\econdoricc\\appdata\\local\\programs\\python\\python311\\lib\\site-packages (from botocore<1.34.0,>=1.33.2->boto3->awspacha==0.1.4) (2.8.2)\n",
      "Requirement already satisfied: urllib3<2.1,>=1.25.4 in c:\\users\\econdoricc\\appdata\\local\\programs\\python\\python311\\lib\\site-packages (from botocore<1.34.0,>=1.33.2->boto3->awspacha==0.1.4) (2.0.5)\n",
      "Requirement already satisfied: six>=1.5 in c:\\users\\econdoricc\\appdata\\local\\programs\\python\\python311\\lib\\site-packages (from python-dateutil<3.0.0,>=2.1->botocore<1.34.0,>=1.33.2->boto3->awspacha==0.1.4) (1.16.0)\n",
      "Installing collected packages: awspacha\n",
      "Successfully installed awspacha-0.1.4\n",
      "Note: you may need to restart the kernel to use updated packages.\n"
     ]
    }
   ],
   "source": [
    "pip install ../dist/awspacha-0.1.4-py3-none-any.whl"
   ]
  },
  {
   "cell_type": "code",
   "execution_count": 3,
   "id": "041f6fe8-ce43-4cc0-9b3b-d0f719d540c7",
   "metadata": {},
   "outputs": [],
   "source": [
    "from awspacha import *"
   ]
  },
  {
   "cell_type": "code",
   "execution_count": 4,
   "id": "e451e1c1-4b39-4d8e-9d00-044d79943db8",
   "metadata": {},
   "outputs": [
    {
     "ename": "TypeError",
     "evalue": "get_table_from_source() missing 5 required positional arguments: 'spark', 'url', 'user', 'password', and 'query'",
     "output_type": "error",
     "traceback": [
      "\u001b[1;31m---------------------------------------------------------------------------\u001b[0m",
      "\u001b[1;31mTypeError\u001b[0m                                 Traceback (most recent call last)",
      "Cell \u001b[1;32mIn[4], line 1\u001b[0m\n\u001b[1;32m----> 1\u001b[0m \u001b[43mget_table_from_source\u001b[49m\u001b[43m(\u001b[49m\u001b[43m)\u001b[49m\n",
      "\u001b[1;31mTypeError\u001b[0m: get_table_from_source() missing 5 required positional arguments: 'spark', 'url', 'user', 'password', and 'query'"
     ]
    }
   ],
   "source": [
    "get_table_from_source()"
   ]
  },
  {
   "cell_type": "code",
   "execution_count": null,
   "id": "046d94c9-4f9e-4bd1-9947-3a850060b3b4",
   "metadata": {},
   "outputs": [],
   "source": [
    "write_to_s3()"
   ]
  },
  {
   "cell_type": "code",
   "execution_count": null,
   "id": "b7c30638-e171-4af8-9a17-a808ba666d14",
   "metadata": {},
   "outputs": [],
   "source": [
    "ap.get_table_from_source()"
   ]
  }
 ],
 "metadata": {
  "kernelspec": {
   "display_name": "Python 3 (ipykernel)",
   "language": "python",
   "name": "python3"
  },
  "language_info": {
   "codemirror_mode": {
    "name": "ipython",
    "version": 3
   },
   "file_extension": ".py",
   "mimetype": "text/x-python",
   "name": "python",
   "nbconvert_exporter": "python",
   "pygments_lexer": "ipython3",
   "version": "3.11.5"
  },
  "widgets": {
   "application/vnd.jupyter.widget-state+json": {
    "state": {},
    "version_major": 2,
    "version_minor": 0
   }
  }
 },
 "nbformat": 4,
 "nbformat_minor": 5
}
