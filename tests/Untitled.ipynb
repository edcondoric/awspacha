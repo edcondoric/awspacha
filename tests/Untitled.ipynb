{
 "cells": [
  {
   "cell_type": "code",
   "execution_count": 1,
   "id": "572e0a83-102e-41b0-9855-b23bd3d7734d",
   "metadata": {},
   "outputs": [],
   "source": [
    "import awspacha as ec"
   ]
  },
  {
   "cell_type": "code",
   "execution_count": 2,
   "id": "25b9209e-819f-4606-ae40-2e5b8523ca2d",
   "metadata": {},
   "outputs": [],
   "source": [
    "at = ec.AthenaManager()"
   ]
  },
  {
   "cell_type": "code",
   "execution_count": null,
   "id": "9c32b9de-b6bc-4dde-88af-4238a37b451e",
   "metadata": {},
   "outputs": [],
   "source": [
    "at.get_query_results_as_dataframe()"
   ]
  },
  {
   "cell_type": "code",
   "execution_count": null,
   "id": "d4e31613-b32d-49ab-95c2-5a79a67a058f",
   "metadata": {},
   "outputs": [],
   "source": []
  },
  {
   "cell_type": "code",
   "execution_count": null,
   "id": "9e249f6a-cb47-4c97-b7c7-92c8305db9f1",
   "metadata": {},
   "outputs": [],
   "source": []
  }
 ],
 "metadata": {
  "kernelspec": {
   "display_name": "Python 3 (ipykernel)",
   "language": "python",
   "name": "python3"
  },
  "language_info": {
   "codemirror_mode": {
    "name": "ipython",
    "version": 3
   },
   "file_extension": ".py",
   "mimetype": "text/x-python",
   "name": "python",
   "nbconvert_exporter": "python",
   "pygments_lexer": "ipython3",
   "version": "3.11.5"
  },
  "widgets": {
   "application/vnd.jupyter.widget-state+json": {
    "state": {},
    "version_major": 2,
    "version_minor": 0
   }
  }
 },
 "nbformat": 4,
 "nbformat_minor": 5
}
